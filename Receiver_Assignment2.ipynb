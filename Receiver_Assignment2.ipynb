{
 "cells": [
  {
   "cell_type": "markdown",
   "metadata": {},
   "source": [
    "# Caesar Encryption\n",
    "\n",
    "## 2.1 Define a socket for receiving data\n",
    "\n",
    "In the host variable set the ip address of the container that is going to send the UDP packet. In the .ipynb file, I have entered the loopback address of the localhost so that the execution can be done here in jupter notebook.\n",
    "\n",
    "1. enter the ip address of the container sending the UDP packet\n",
    "2. enter the port number\n",
    "3. initialize the socket\n",
    "4. receive the data and decode it to string\n",
    "5. if the message is received stop receiving more messages"
   ]
  },
  {
   "cell_type": "code",
   "execution_count": 24,
   "metadata": {},
   "outputs": [
    {
     "name": "stdout",
     "output_type": "stream",
     "text": [
      "Waiting to receive messages...\n",
      "Received message: QHWZRUN VHFXULWB FDHVDU HQFUBSWLRQ 123\n"
     ]
    }
   ],
   "source": [
    "import os                                        # os module\n",
    "from socket import *                             # socket module\n",
    "UDP_host = \"127.0.0.1\"                           # enter the ip address of the container which sends the message\n",
    "UDP_port = 13003                                 # Enter the UDP port number      \n",
    "buffer = 1024                                    # Set the buffer size to be 1024 bytes\n",
    "addr = (UDP_host, UDP_port)\n",
    "UDPSock = socket(AF_INET, SOCK_DGRAM)            # Create a socket\n",
    "UDPSock.bind(addr)                               # Bind the socket so that it can receive the data\n",
    "print (\"Waiting to receive messages...\")\n",
    "while True:                                      # While loop to receive the message\n",
    "    (data, addr) = UDPSock.recvfrom(buffer)      # Receive the message\n",
    "    message = data.decode('UTF-8')               # Decode the data and convert it to string\n",
    "    print (\"Received message: \" + message)       # Print the Received message\n",
    "    cipher_text = message\n",
    "    p = len(message)                             # Calculates the length of the received message\n",
    "    if p != 0:                                   # if loop to stop receiving if message is received\n",
    "        break\n",
    "    "
   ]
  },
  {
   "cell_type": "markdown",
   "metadata": {},
   "source": [
    "## 2.2  Function to decrypt ciphertext to plaintext\n",
    "\n",
    "1. Take each letter from the ciphertext\n",
    "2. Convert from char to number (ASCII Table)\n",
    "3. Apply decryption equation and add offset of 97 to get lowercase letters in output\n",
    "4. Convert the number to char (ASCII Table)"
   ]
  },
  {
   "cell_type": "code",
   "execution_count": 25,
   "metadata": {},
   "outputs": [],
   "source": [
    "def ciphertext_decryption(cipher_text, k=3):             # Decryption Function\n",
    "    decrypted_text = ''                                  # Initialization of the plain_text variable\n",
    "    for letter in cipher_text:                           # Using for loop to take each letter from the encrypted text\n",
    "        if letter.isalpha() == False:                    # Using if loop to separate letters from other characters\n",
    "            decrypted_letter = letter\n",
    "        else:\n",
    "            b = (ord(letter) - 65 - k) %26 + 97          # Applying decryption equation and adding offset of 97 for lowercase output\n",
    "            decrypted_letter = chr(b)                    # To convert number value of decrypted letter to character (ASCII Table)\n",
    "        decrypted_text += decrypted_letter               # To get the plaintext variable\n",
    "    return(decrypted_text)"
   ]
  },
  {
   "cell_type": "code",
   "execution_count": 26,
   "metadata": {},
   "outputs": [
    {
     "name": "stdout",
     "output_type": "stream",
     "text": [
      "After Decryption: network security caesar encryption 123\n"
     ]
    }
   ],
   "source": [
    "plain_text = ciphertext_decryption(cipher_text)          # Calling the decryption function to decrypt the encrypted text\n",
    "print('After Decryption:', plain_text)"
   ]
  },
  {
   "cell_type": "markdown",
   "metadata": {},
   "source": [
    "## 2.3 Write to the file \n",
    "\n",
    "the file created in the receiving container is given the name text_rcvd.txt\n",
    "\n",
    "1. create a file with the name text_rcvd.txt\n",
    "2. write the decrypted message to the file\n",
    "3. close the file"
   ]
  },
  {
   "cell_type": "code",
   "execution_count": 27,
   "metadata": {},
   "outputs": [],
   "source": [
    "file = open(\"text_rcvd.txt\", \"w\")                           # Create a file with name text_rcvd.txt if not present\n",
    "file.write(plain_text)                                      # Write the decrypted message to the file\n",
    "file.close()                                                # Close the file"
   ]
  },
  {
   "cell_type": "code",
   "execution_count": null,
   "metadata": {},
   "outputs": [],
   "source": []
  }
 ],
 "metadata": {
  "kernelspec": {
   "display_name": "Python 3",
   "language": "python",
   "name": "python3"
  },
  "language_info": {
   "codemirror_mode": {
    "name": "ipython",
    "version": 3
   },
   "file_extension": ".py",
   "mimetype": "text/x-python",
   "name": "python",
   "nbconvert_exporter": "python",
   "pygments_lexer": "ipython3",
   "version": "3.6.5"
  }
 },
 "nbformat": 4,
 "nbformat_minor": 2
}
