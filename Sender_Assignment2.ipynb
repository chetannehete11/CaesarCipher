{
 "cells": [
  {
   "cell_type": "code",
   "execution_count": 37,
   "metadata": {},
   "outputs": [],
   "source": [
    "import os\n",
    "import numpy as np\n",
    "from pprint import pprint\n",
    "import socket"
   ]
  },
  {
   "cell_type": "markdown",
   "metadata": {},
   "source": [
    "# Cesar Cipher\n",
    "# Encryption\n",
    "## 1.1 Define the alphabet map. We need to map a-z to 0-25\n",
    "- Define an empty dictionary (char_map)\n",
    "- Use a for loop to convert ASCII to char\n",
    "- value of the alphabet map is the value of the counter\n"
   ]
  },
  {
   "cell_type": "code",
   "execution_count": 38,
   "metadata": {},
   "outputs": [
    {
     "name": "stdout",
     "output_type": "stream",
     "text": [
      "{'a': 0,\n",
      " 'b': 1,\n",
      " 'c': 2,\n",
      " 'd': 3,\n",
      " 'e': 4,\n",
      " 'f': 5,\n",
      " 'g': 6,\n",
      " 'h': 7,\n",
      " 'i': 8,\n",
      " 'j': 9,\n",
      " 'k': 10,\n",
      " 'l': 11,\n",
      " 'm': 12,\n",
      " 'n': 13,\n",
      " 'o': 14,\n",
      " 'p': 15,\n",
      " 'q': 16,\n",
      " 'r': 17,\n",
      " 's': 18,\n",
      " 't': 19,\n",
      " 'u': 20,\n",
      " 'v': 21,\n",
      " 'w': 22,\n",
      " 'x': 23,\n",
      " 'y': 24,\n",
      " 'z': 25}\n"
     ]
    }
   ],
   "source": [
    "from pprint import pprint                       # prettyprint module\n",
    "char_map = {}                                   # Define Empty Dictionary\n",
    "\n",
    "for counter in range (0,26):                    # Use for loop to convert ascii to char\n",
    "    character = (chr(97+counter))               # Convert ascii to char using chr() function\n",
    "    char_map[character] = counter               # Map the numbers to the characters\n",
    "pprint(char_map)  "
   ]
  },
  {
   "cell_type": "markdown",
   "metadata": {},
   "source": [
    "## 1.2 Read a file\n",
    "\n",
    "keep the .ipynb or .py and the .txt file in the same directory\n",
    "\n",
    "1. Create a file with the name text.txt\n",
    "2. Enter the text in the file\n",
    "3. Take the file as the input\n",
    "4. print the contents of the file\n",
    "5. print the length of the message string in the file"
   ]
  },
  {
   "cell_type": "code",
   "execution_count": 39,
   "metadata": {},
   "outputs": [
    {
     "name": "stdout",
     "output_type": "stream",
     "text": [
      "Enter the name of the file : text.txt\n",
      "The text in the file is :  network security caesar encryption 123\n",
      "The length of the message in file is :  38\n"
     ]
    }
   ],
   "source": [
    "file = input(\"Enter the name of the file : \")                 # Take the input file\n",
    "text1 = open(file,'r+').read()                                # Read the contents of the file \n",
    "print(\"The text in the file is : \", text1)                    # Print the contents of the file\n",
    "length = (len(text1))                                         # Command calculates the length of the contents of file\n",
    "print (\"The length of the message in file is : \", length)     # Prints the length of the message"
   ]
  },
  {
   "cell_type": "markdown",
   "metadata": {},
   "source": [
    "## 1.3 Encryption Algorithm\n",
    "\n",
    "1. $p$ : The original position as given by the char_map\n",
    "2. $q$ : The number of shifts to be done from the original position\n",
    "3. $C$ : Encrypted char\n",
    "\n",
    "\n",
    "$C = E(k,p)= (p+k) \\ mod26$\n",
    "\n",
    "## 1.4 Function to encrypt plaintext to ciphertext\n",
    "\n",
    "1. Get each character of the plaintext\n",
    "2. Encrypt it to a number\n",
    "3. Convert the number to char (ASCII Table)\n",
    "\n",
    "plaintext: text from the user (lowercase)\n",
    "\n",
    "ciphertext: encrypted text (uppercase)"
   ]
  },
  {
   "cell_type": "code",
   "execution_count": 40,
   "metadata": {},
   "outputs": [
    {
     "name": "stdout",
     "output_type": "stream",
     "text": [
      "After Encryption: QHWZRUN VHFXULWB FDHVDU HQFUBSWLRQ 123\n"
     ]
    }
   ],
   "source": [
    "def ciphertext_encryption(plaintext, k=3):                   # Encryption Function\n",
    "    cipher = ''                                              # Initialization of the cipher variable\n",
    "    for letter in plaintext:                                 # Using for loop to take each letter from plaintext\n",
    "        if letter.isalpha() == False:                        # Using if loop to separate letters from other characters\n",
    "            temp_char = letter\n",
    "        else:                                                \n",
    "            a = char_map[letter]                             \n",
    "            a = (a + k) % 26 + 65                            # For Capital alphabets from \"A\" we need to add an offset of 65\n",
    "            temp_char = (chr(a))                             # Temporary variable used for conversion                \n",
    "        cipher += temp_char                                  # Cipher variable\n",
    "    return(cipher)\n",
    "cipher_text = ciphertext_encryption(text1)                   # Calling the encryption function to encrypt the text\n",
    "print('After Encryption:', cipher_text)"
   ]
  },
  {
   "cell_type": "markdown",
   "metadata": {},
   "source": [
    "## 1.5 Define a socket to send data\n",
    "\n",
    "In the host variable set the ip address of the container that is going to receive the UDP packet. In the .ipynb file i have entered the loopback (127.0.0.1) address of the localhost so that the execution can be done here in jupyter notebook.\n",
    "\n",
    "for UDP communication between two containers enter the IP address of the receiving container\n",
    "\n",
    "1. enter the ip address of the target container\n",
    "2. enter the port number\n",
    "3. initialize the socket\n",
    "4. encode the message to be sent in bytes\n",
    "5. send the data\n"
   ]
  },
  {
   "cell_type": "code",
   "execution_count": 41,
   "metadata": {},
   "outputs": [],
   "source": [
    "from socket import *\n",
    "\n",
    "UDP_host = \"127.0.0.1\"                             # Set to the IP address of the receiving container.\n",
    "UDP_port = 13003                                   # Set the UDP port number\n",
    "address = (UDP_host, UDP_port)\n",
    "UDPSock = socket(AF_INET, SOCK_DGRAM)              # Creating a socket\n",
    "\n",
    "text = cipher_text\n",
    "data = text.encode('UTF-8')                        # Encode the data to bytes so as to send the message\n",
    "UDPSock.sendto(data, address)                      # Send the data to the receiving container\n",
    "UDPSock.close()"
   ]
  },
  {
   "cell_type": "code",
   "execution_count": null,
   "metadata": {},
   "outputs": [],
   "source": []
  }
 ],
 "metadata": {
  "kernelspec": {
   "display_name": "Python 3",
   "language": "python",
   "name": "python3"
  },
  "language_info": {
   "codemirror_mode": {
    "name": "ipython",
    "version": 3
   },
   "file_extension": ".py",
   "mimetype": "text/x-python",
   "name": "python",
   "nbconvert_exporter": "python",
   "pygments_lexer": "ipython3",
   "version": "3.6.5"
  }
 },
 "nbformat": 4,
 "nbformat_minor": 2
}
